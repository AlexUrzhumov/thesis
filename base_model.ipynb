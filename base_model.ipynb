{
 "cells": [
  {
   "cell_type": "code",
   "execution_count": 7,
   "metadata": {},
   "outputs": [],
   "source": [
    "import pandas as pd\n",
    "import numpy as np\n",
    "import os\n",
    "from sklearn.metrics import accuracy_score, f1_score\n",
    "from sklearn.model_selection import cross_val_score, train_test_split\n",
    "\n",
    "#dict_emb = 'ru'\n",
    "dict_emb = 'ru-eng'\n",
    "\n",
    "num_true = 1000\n",
    "num_eng = 5000\n",
    "test_size = 0.2\n",
    "\n",
    "def prepare(num_true, num_eng, test_size):\n",
    "    X_eng_tr, X_eng_te, y_eng_tr, y_eng_te = train_test_split(X_eng, y_eng, train_size=num_eng)\n",
    "    X_true_s, _, y_true_s, _ = train_test_split(X_true, y_true, train_size=num_true)\n",
    "    \n",
    "    X_rus, X_test, y_rus, y_test = train_test_split(np.vstack([X_fake, X_true_s]),\n",
    "                                                    np.concatenate([y_fake, y_true_s]), \n",
    "                                                    test_size=test_size)\n",
    "    \n",
    "    X_train = np.vstack([X_eng_tr, X_rus])\n",
    "    y_train = np.concatenate([y_eng_tr, y_rus])\n",
    "    return X_train, X_test, X_eng_te, y_train, y_test, y_eng_te\n",
    "\n",
    "\n",
    "def sim(x, y):\n",
    "    return np.sum(x * y, axis=1) / (np.linalg.norm(x, axis=1) * np.linalg.norm(y, axis=1) +1e-5)\n",
    "\n",
    "def dist(x, y):\n",
    "    return np.linalg.norm(x - y, axis=1)"
   ]
  },
  {
   "cell_type": "code",
   "execution_count": 8,
   "metadata": {},
   "outputs": [],
   "source": [
    "X_fake = np.nan_to_num(np.load(dict_emb + '/fake/text_w2v.npy'))\n",
    "X_true = np.nan_to_num(np.load(dict_emb + '/true/text_w2v.npy'))\n",
    "X_eng = np.nan_to_num(np.load(dict_emb + '/eng/text_w2v.npy'))\n",
    "\n",
    "X_fake_title = np.nan_to_num(np.load(dict_emb + '/fake/title_w2v.npy'))\n",
    "X_true_title = np.nan_to_num(np.load(dict_emb + '/true/title_w2v.npy'))\n",
    "X_eng_title = np.nan_to_num(np.load(dict_emb + '/eng/title_w2v.npy'))\n",
    "\n",
    "y_fake = np.load(dict_emb + '/fake/y.npy')\n",
    "y_true = np.load(dict_emb + '/true/y.npy')\n",
    "y_eng = np.load(dict_emb + '/eng/y.npy')"
   ]
  },
  {
   "cell_type": "code",
   "execution_count": 9,
   "metadata": {},
   "outputs": [
    {
     "name": "stderr",
     "output_type": "stream",
     "text": [
      "/usr/local/lib/python3.7/site-packages/sklearn/model_selection/_split.py:2026: FutureWarning: From version 0.21, test_size will always complement train_size unless both are specified.\n",
      "  FutureWarning)\n"
     ]
    },
    {
     "name": "stdout",
     "output_type": "stream",
     "text": [
      "ru\t f1: 0.7256993287840949 acc 0.7286103542234332\n",
      "eng\t f1: 0.7921776654350701 acc 0.7938899496615172\n"
     ]
    }
   ],
   "source": [
    "from sklearn.svm import LinearSVC\n",
    "from sklearn.metrics import accuracy_score, f1_score\n",
    "\n",
    "def get_score():\n",
    "    f1, acc = [np.zeros(5), np.zeros(5)], [np.zeros(5), np.zeros(5)]\n",
    "\n",
    "    for i in range(5):\n",
    "        X_train, X_test, X_eng_te, y_train, y_test, y_eng_te = prepare(num_true, num_eng, test_size)\n",
    "        clf = LinearSVC()\n",
    "        clf.fit(X_train, y_train)\n",
    "        y_pred = clf.predict(X_test)\n",
    "        y_eng_pr = clf.predict(X_eng_te)\n",
    "        f1[0][i], f1[1][i] = f1_score(y_test, y_pred), f1_score(y_eng_te, y_eng_pr)\n",
    "        acc[0][i], acc[1][i] = accuracy_score(y_test, y_pred), accuracy_score(y_eng_te, y_eng_pr)\n",
    "    \n",
    "    print('ru\\t f1:', np.mean(f1[0]), 'acc', np.mean(acc[0]))\n",
    "    print('eng\\t f1:', np.mean(f1[1]), 'acc', np.mean(acc[1]))\n",
    "    \n",
    "get_score()"
   ]
  },
  {
   "cell_type": "code",
   "execution_count": 10,
   "metadata": {},
   "outputs": [],
   "source": [
    "sim_fake, dist_fake = sim(X_fake, X_fake_title)[:, None], dist(X_fake, X_fake_title)[:, None]\n",
    "sim_true, dist_true = sim(X_true, X_true_title)[:, None], dist(X_true, X_true_title)[:, None]\n",
    "sim_eng, dist_eng = sim(X_eng, X_eng_title)[:, None], dist(X_eng, X_eng_title)[:, None]"
   ]
  },
  {
   "cell_type": "code",
   "execution_count": 11,
   "metadata": {},
   "outputs": [
    {
     "name": "stderr",
     "output_type": "stream",
     "text": [
      "/usr/local/lib/python3.7/site-packages/sklearn/model_selection/_split.py:2026: FutureWarning: From version 0.21, test_size will always complement train_size unless both are specified.\n",
      "  FutureWarning)\n"
     ]
    },
    {
     "name": "stdout",
     "output_type": "stream",
     "text": [
      "ru\t f1: 0.739057554062834 acc 0.7237057220708447\n",
      "eng\t f1: 0.79554531721616 acc 0.795868772782503\n"
     ]
    }
   ],
   "source": [
    "X_fake = np.hstack([X_fake, sim_fake, dist_fake])\n",
    "X_true = np.hstack([X_true, sim_true, dist_true])\n",
    "X_eng = np.hstack([X_eng, sim_eng, dist_eng])\n",
    "\n",
    "get_score()"
   ]
  },
  {
   "cell_type": "code",
   "execution_count": 12,
   "metadata": {},
   "outputs": [
    {
     "name": "stderr",
     "output_type": "stream",
     "text": [
      "/usr/local/lib/python3.7/site-packages/sklearn/model_selection/_split.py:2026: FutureWarning: From version 0.21, test_size will always complement train_size unless both are specified.\n",
      "  FutureWarning)\n"
     ]
    },
    {
     "name": "stdout",
     "output_type": "stream",
     "text": [
      "ru\t f1: 0.8319154022871336 acc 0.8435967302452315\n",
      "eng\t f1: 0.8092996393311438 acc 0.8157958687727824\n"
     ]
    }
   ],
   "source": [
    "X_fake_lda = np.load(dict_emb + '/fake/text_lda.npy')\n",
    "X_true_lda = np.load(dict_emb + '/true/text_lda.npy')\n",
    "X_eng_lda = np.load(dict_emb + '/eng/text_lda.npy')\n",
    "\n",
    "X_fake = np.hstack([X_fake, X_fake_lda])\n",
    "X_true = np.hstack([X_true, X_true_lda])\n",
    "X_eng = np.hstack([X_eng, X_eng_lda])\n",
    "\n",
    "get_score()"
   ]
  },
  {
   "cell_type": "code",
   "execution_count": null,
   "metadata": {},
   "outputs": [],
   "source": []
  }
 ],
 "metadata": {
  "kernelspec": {
   "display_name": "Python 3",
   "language": "python",
   "name": "python3"
  },
  "language_info": {
   "codemirror_mode": {
    "name": "ipython",
    "version": 3
   },
   "file_extension": ".py",
   "mimetype": "text/x-python",
   "name": "python",
   "nbconvert_exporter": "python",
   "pygments_lexer": "ipython3",
   "version": "3.7.0"
  }
 },
 "nbformat": 4,
 "nbformat_minor": 2
}
